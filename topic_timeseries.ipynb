{
 "cells": [
  {
   "cell_type": "code",
   "execution_count": null,
   "metadata": {},
   "outputs": [],
   "source": [
    "%pip install dash\n",
    "%pip install plotly.express\n",
    "%pip install pandas"
   ]
  },
  {
   "cell_type": "code",
   "execution_count": 2,
   "metadata": {},
   "outputs": [],
   "source": [
    "import pandas as pd\n",
    "from datetime import date\n",
    "from dash import Dash, dcc, html, Input, Output, callback\n",
    "import plotly.express as px\n",
    "#from dash.dependencies import Input, Output"
   ]
  },
  {
   "cell_type": "markdown",
   "metadata": {},
   "source": [
    "### plot"
   ]
  },
  {
   "cell_type": "code",
   "execution_count": 3,
   "metadata": {},
   "outputs": [],
   "source": [
    "topic_df = pd.read_csv('./TopicsofReviews.csv')\n",
    "date_df = pd.read_csv('./combined_data.csv')\n",
    "\n",
    "# merge dfs into data\n",
    "data = date_df.merge(topic_df, on='review', how='inner')\n",
    "\n",
    "# clean date\n",
    "data['date_clean'] = pd.to_datetime(data['date'], format='%Y-%m-%d %H:%M:%S', errors='coerce')\n",
    "data['date_clean'] = data['date_clean'].combine_first(pd.to_datetime(data['date'], format='%Y-%m-%dT%H:%M:%S.%fZ', errors='coerce'))\n",
    "\n",
    "# sanity check that all dates are cleaned\n",
    "# sum(data['date_clean'].isnull())# should output 0\n",
    "\n",
    "data['date_clean'] = data['date_clean'].astype(str)\n",
    "data['date_clean'] = data['date_clean'].str[:10]\n",
    "data['date_clean'] = pd.to_datetime(data['date_clean']).dt.date    \n",
    "\n",
    "# select columns needed\n",
    "df = data[['review', 'date_clean', 'Topic_Name', 'Topic_Number']]"
   ]
  },
  {
   "cell_type": "code",
   "execution_count": null,
   "metadata": {},
   "outputs": [],
   "source": [
    "get_topic_name = {\n",
    "    0:'App Responsiveness', 1:'Money Growth (Interest Rates)', 2:'Customer Services', \n",
    "    3:'Services & Products', 4:'User Interface', 5:'Credit card usage', \n",
    "    6:'Login & Account Setup', 7:'Competition', 8:'Safety', 9:'Customer trust'\n",
    "    }\n",
    "\n",
    "# split reviews with multiple topics into duplicates of single topics\n",
    "df2 = df[df['Topic_Number'].str.contains(',', regex=False)]\n",
    "\n",
    "\n",
    "# hard coding cos splitting by regex is killing me\n",
    "df['Topic_Number'] = df['Topic_Number'].str[0]\n",
    "df['Topic_Number'] = df['Topic_Number'].astype(int)\n",
    "df['Topic_Name'] = df['Topic_Number'].map(get_topic_name)\n",
    "\n",
    "df2['Topic_Number'] = df2['Topic_Number'].str[2]\n",
    "df2['Topic_Number'] = df2['Topic_Number'].astype(int)\n",
    "df2['Topic_Name'] = df2['Topic_Number'].map(get_topic_name)\n",
    "\n",
    "df = pd.concat([df,df2])\n",
    "\n",
    "df = df.groupby(['Topic_Name', 'Topic_Number', 'date_clean']).size().reset_index(name='num_reviews')"
   ]
  },
  {
   "cell_type": "code",
   "execution_count": 18,
   "metadata": {},
   "outputs": [
    {
     "name": "stdout",
     "output_type": "stream",
     "text": [
      "2022-09-03\n",
      "2024-03-10\n",
      "2023-01-24\n",
      "2023-07-19\n"
     ]
    }
   ],
   "source": [
    "min_date = df.date_clean.min()\n",
    "max_date = df.date_clean.max()\n",
    "print(min_date)\n",
    "print(max_date)\n",
    "\n",
    "s = df.date_clean[5]\n",
    "e = df.date_clean[10]\n",
    "print(s)\n",
    "print(e)"
   ]
  },
  {
   "cell_type": "code",
   "execution_count": 19,
   "metadata": {},
   "outputs": [
    {
     "data": {
      "application/vnd.plotly.v1+json": {
       "config": {
        "plotlyServerURL": "https://plot.ly"
       },
       "data": [
        {
         "hovertemplate": "Topic=App Responsiveness<br>Date=%{x}<br>Number of Reviews=%{y}<extra></extra>",
         "legendgroup": "App Responsiveness",
         "line": {
          "color": "#636efa",
          "dash": "solid"
         },
         "marker": {
          "symbol": "circle"
         },
         "mode": "lines",
         "name": "App Responsiveness",
         "orientation": "v",
         "showlegend": true,
         "type": "scatter",
         "x": [
          "2022-10-04",
          "2022-10-07",
          "2022-10-09",
          "2022-12-07",
          "2022-12-08",
          "2023-01-24",
          "2023-04-23",
          "2023-04-29",
          "2023-06-05",
          "2023-07-01",
          "2023-07-19",
          "2023-07-21",
          "2023-07-22",
          "2023-07-31",
          "2023-08-07",
          "2023-08-31",
          "2023-09-07",
          "2023-09-13",
          "2023-09-18",
          "2023-09-25",
          "2023-10-05",
          "2023-10-08",
          "2023-11-02",
          "2023-11-09",
          "2023-11-11",
          "2023-12-03",
          "2023-12-06",
          "2023-12-23",
          "2024-01-14",
          "2024-02-25",
          "2024-03-06"
         ],
         "xaxis": "x",
         "y": [
          1,
          1,
          1,
          1,
          1,
          1,
          1,
          1,
          2,
          1,
          2,
          1,
          1,
          1,
          1,
          1,
          1,
          1,
          1,
          1,
          1,
          1,
          1,
          1,
          1,
          1,
          1,
          1,
          1,
          1,
          1
         ],
         "yaxis": "y"
        },
        {
         "hovertemplate": "Topic=Competition<br>Date=%{x}<br>Number of Reviews=%{y}<extra></extra>",
         "legendgroup": "Competition",
         "line": {
          "color": "#EF553B",
          "dash": "solid"
         },
         "marker": {
          "symbol": "circle"
         },
         "mode": "lines",
         "name": "Competition",
         "orientation": "v",
         "showlegend": true,
         "type": "scatter",
         "x": [
          "2022-10-04",
          "2023-02-08",
          "2023-04-26",
          "2023-05-01",
          "2023-05-24",
          "2023-06-05",
          "2023-07-19",
          "2023-07-21",
          "2023-07-22",
          "2023-07-25",
          "2023-07-28",
          "2023-08-24",
          "2023-09-07",
          "2023-09-18",
          "2023-10-07",
          "2023-11-15",
          "2023-11-16",
          "2023-11-18",
          "2023-11-29",
          "2023-12-09",
          "2023-12-10",
          "2023-12-30",
          "2024-01-18",
          "2024-03-08"
         ],
         "xaxis": "x",
         "y": [
          1,
          1,
          1,
          1,
          1,
          1,
          1,
          1,
          1,
          1,
          1,
          1,
          1,
          1,
          1,
          1,
          1,
          1,
          1,
          1,
          1,
          1,
          1,
          1
         ],
         "yaxis": "y"
        },
        {
         "hovertemplate": "Topic=Credit card usage<br>Date=%{x}<br>Number of Reviews=%{y}<extra></extra>",
         "legendgroup": "Credit card usage",
         "line": {
          "color": "#00cc96",
          "dash": "solid"
         },
         "marker": {
          "symbol": "circle"
         },
         "mode": "lines",
         "name": "Credit card usage",
         "orientation": "v",
         "showlegend": true,
         "type": "scatter",
         "x": [
          "2022-09-06",
          "2022-10-03",
          "2022-10-04",
          "2022-12-12",
          "2023-02-13",
          "2023-02-20",
          "2023-05-01",
          "2023-06-15",
          "2023-06-28",
          "2023-07-06",
          "2023-07-20",
          "2023-07-21",
          "2023-07-27",
          "2023-08-07",
          "2023-08-08",
          "2023-08-11",
          "2023-08-17",
          "2023-09-06",
          "2023-09-11",
          "2023-10-12",
          "2023-11-11",
          "2023-11-15",
          "2023-12-04",
          "2023-12-21",
          "2024-01-12",
          "2024-03-10"
         ],
         "xaxis": "x",
         "y": [
          1,
          1,
          1,
          1,
          1,
          1,
          1,
          1,
          1,
          1,
          1,
          1,
          1,
          2,
          1,
          1,
          1,
          1,
          1,
          1,
          1,
          1,
          1,
          1,
          1,
          1
         ],
         "yaxis": "y"
        },
        {
         "hovertemplate": "Topic=Customer Services<br>Date=%{x}<br>Number of Reviews=%{y}<extra></extra>",
         "legendgroup": "Customer Services",
         "line": {
          "color": "#ab63fa",
          "dash": "solid"
         },
         "marker": {
          "symbol": "circle"
         },
         "mode": "lines",
         "name": "Customer Services",
         "orientation": "v",
         "showlegend": true,
         "type": "scatter",
         "x": [
          "2022-09-05",
          "2022-09-09",
          "2022-09-25",
          "2022-12-19",
          "2023-01-20",
          "2023-01-24",
          "2023-02-11",
          "2023-02-15",
          "2023-06-16",
          "2023-07-15",
          "2023-07-17",
          "2023-07-19",
          "2023-07-20",
          "2023-07-23",
          "2023-07-24",
          "2023-07-25",
          "2023-07-27",
          "2023-07-28",
          "2023-08-02",
          "2023-08-05",
          "2023-08-07",
          "2023-08-25",
          "2023-08-26",
          "2023-08-27",
          "2023-08-30",
          "2023-09-15",
          "2023-10-08",
          "2023-12-06",
          "2023-12-07",
          "2024-01-15"
         ],
         "xaxis": "x",
         "y": [
          1,
          1,
          1,
          1,
          1,
          1,
          1,
          1,
          1,
          1,
          1,
          4,
          5,
          2,
          2,
          1,
          1,
          2,
          1,
          1,
          1,
          1,
          1,
          1,
          1,
          1,
          1,
          1,
          2,
          1
         ],
         "yaxis": "y"
        },
        {
         "hovertemplate": "Topic=Customer trust<br>Date=%{x}<br>Number of Reviews=%{y}<extra></extra>",
         "legendgroup": "Customer trust",
         "line": {
          "color": "#FFA15A",
          "dash": "solid"
         },
         "marker": {
          "symbol": "circle"
         },
         "mode": "lines",
         "name": "Customer trust",
         "orientation": "v",
         "showlegend": true,
         "type": "scatter",
         "x": [
          "2022-09-06",
          "2022-09-12",
          "2022-10-03",
          "2022-12-07",
          "2022-12-09",
          "2022-12-10",
          "2022-12-14",
          "2022-12-16",
          "2022-12-30",
          "2023-02-18",
          "2023-04-02",
          "2023-05-04",
          "2023-05-12",
          "2023-05-30",
          "2023-06-05",
          "2023-06-06",
          "2023-07-09",
          "2023-07-11",
          "2023-07-14",
          "2023-07-19",
          "2023-07-20",
          "2023-07-23",
          "2023-07-28",
          "2023-08-16",
          "2023-09-02",
          "2023-09-10",
          "2023-09-17",
          "2023-09-25",
          "2023-10-08",
          "2023-11-10",
          "2023-11-14",
          "2024-03-04",
          "2024-03-09"
         ],
         "xaxis": "x",
         "y": [
          1,
          1,
          1,
          2,
          1,
          1,
          1,
          1,
          1,
          1,
          1,
          1,
          1,
          1,
          2,
          1,
          1,
          1,
          1,
          2,
          1,
          2,
          1,
          1,
          1,
          1,
          1,
          1,
          1,
          1,
          1,
          1,
          1
         ],
         "yaxis": "y"
        },
        {
         "hovertemplate": "Topic=Login & Account Setup<br>Date=%{x}<br>Number of Reviews=%{y}<extra></extra>",
         "legendgroup": "Login & Account Setup",
         "line": {
          "color": "#19d3f3",
          "dash": "solid"
         },
         "marker": {
          "symbol": "circle"
         },
         "mode": "lines",
         "name": "Login & Account Setup",
         "orientation": "v",
         "showlegend": true,
         "type": "scatter",
         "x": [
          "2022-10-03",
          "2022-11-01",
          "2022-12-07",
          "2022-12-10",
          "2022-12-27",
          "2023-01-14",
          "2023-01-25",
          "2023-02-26",
          "2023-03-21",
          "2023-05-02",
          "2023-06-05",
          "2023-07-11",
          "2023-07-19",
          "2023-07-21",
          "2023-07-25",
          "2023-08-02",
          "2023-09-09",
          "2023-09-16",
          "2023-09-25",
          "2023-11-16",
          "2024-01-25",
          "2024-02-07",
          "2024-02-18",
          "2024-03-10"
         ],
         "xaxis": "x",
         "y": [
          1,
          1,
          1,
          1,
          1,
          1,
          1,
          1,
          1,
          1,
          1,
          1,
          1,
          1,
          1,
          1,
          1,
          1,
          1,
          1,
          1,
          1,
          1,
          2
         ],
         "yaxis": "y"
        },
        {
         "hovertemplate": "Topic=Money Growth (Interest Rates)<br>Date=%{x}<br>Number of Reviews=%{y}<extra></extra>",
         "legendgroup": "Money Growth (Interest Rates)",
         "line": {
          "color": "#FF6692",
          "dash": "solid"
         },
         "marker": {
          "symbol": "circle"
         },
         "mode": "lines",
         "name": "Money Growth (Interest Rates)",
         "orientation": "v",
         "showlegend": true,
         "type": "scatter",
         "x": [
          "2022-10-03",
          "2022-10-31",
          "2022-12-09",
          "2022-12-27",
          "2022-12-28",
          "2023-01-17",
          "2023-01-31",
          "2023-02-01",
          "2023-02-05",
          "2023-04-22",
          "2023-04-27",
          "2023-06-05",
          "2023-06-25",
          "2023-07-10",
          "2023-07-26",
          "2023-07-27",
          "2023-08-02",
          "2023-08-07",
          "2023-08-11",
          "2023-08-17",
          "2023-08-29",
          "2023-09-06",
          "2023-09-10",
          "2023-09-12",
          "2023-09-15",
          "2023-09-19",
          "2023-10-13",
          "2023-10-24",
          "2023-11-04",
          "2023-11-10",
          "2023-11-11",
          "2023-11-16",
          "2023-11-22",
          "2023-12-06",
          "2023-12-07",
          "2023-12-22",
          "2024-01-11",
          "2024-01-26"
         ],
         "xaxis": "x",
         "y": [
          1,
          1,
          1,
          1,
          1,
          1,
          1,
          1,
          1,
          1,
          1,
          2,
          1,
          1,
          1,
          1,
          2,
          6,
          1,
          1,
          1,
          1,
          1,
          1,
          1,
          1,
          1,
          1,
          1,
          2,
          1,
          1,
          1,
          2,
          1,
          1,
          1,
          1
         ],
         "yaxis": "y"
        },
        {
         "hovertemplate": "Topic=Safety<br>Date=%{x}<br>Number of Reviews=%{y}<extra></extra>",
         "legendgroup": "Safety",
         "line": {
          "color": "#B6E880",
          "dash": "solid"
         },
         "marker": {
          "symbol": "circle"
         },
         "mode": "lines",
         "name": "Safety",
         "orientation": "v",
         "showlegend": true,
         "type": "scatter",
         "x": [
          "2022-09-04",
          "2022-09-07",
          "2022-10-27",
          "2023-01-29",
          "2023-02-01",
          "2023-02-22",
          "2023-06-05",
          "2023-06-22",
          "2023-07-20",
          "2023-07-21",
          "2023-07-26",
          "2023-07-27",
          "2023-09-05",
          "2023-09-19",
          "2023-10-06",
          "2023-10-19",
          "2023-10-24",
          "2023-11-10",
          "2023-11-16",
          "2023-11-20",
          "2023-11-21",
          "2023-11-25",
          "2023-12-30",
          "2024-02-14",
          "2024-02-21"
         ],
         "xaxis": "x",
         "y": [
          1,
          1,
          1,
          1,
          1,
          1,
          1,
          1,
          1,
          1,
          1,
          1,
          1,
          1,
          1,
          1,
          1,
          1,
          1,
          1,
          1,
          1,
          1,
          1,
          1
         ],
         "yaxis": "y"
        },
        {
         "hovertemplate": "Topic=Services & Products<br>Date=%{x}<br>Number of Reviews=%{y}<extra></extra>",
         "legendgroup": "Services & Products",
         "line": {
          "color": "#FF97FF",
          "dash": "solid"
         },
         "marker": {
          "symbol": "circle"
         },
         "mode": "lines",
         "name": "Services & Products",
         "orientation": "v",
         "showlegend": true,
         "type": "scatter",
         "x": [
          "2022-09-03",
          "2022-09-12",
          "2022-12-09",
          "2023-05-10",
          "2023-06-05",
          "2023-07-24",
          "2023-07-30",
          "2023-08-07",
          "2023-08-08",
          "2023-08-18",
          "2023-08-23",
          "2023-08-25",
          "2023-09-17",
          "2023-10-04",
          "2023-10-08",
          "2023-11-12",
          "2023-11-16",
          "2023-11-21",
          "2023-11-23",
          "2023-11-24",
          "2023-11-25",
          "2023-12-18",
          "2024-01-10",
          "2024-03-10"
         ],
         "xaxis": "x",
         "y": [
          1,
          1,
          1,
          1,
          1,
          1,
          1,
          2,
          1,
          1,
          1,
          1,
          1,
          1,
          1,
          1,
          1,
          1,
          1,
          1,
          1,
          1,
          1,
          1
         ],
         "yaxis": "y"
        },
        {
         "hovertemplate": "Topic=User Interface<br>Date=%{x}<br>Number of Reviews=%{y}<extra></extra>",
         "legendgroup": "User Interface",
         "line": {
          "color": "#FECB52",
          "dash": "solid"
         },
         "marker": {
          "symbol": "circle"
         },
         "mode": "lines",
         "name": "User Interface",
         "orientation": "v",
         "showlegend": true,
         "type": "scatter",
         "x": [
          "2022-09-03",
          "2022-09-06",
          "2022-09-10",
          "2022-10-02",
          "2022-12-08",
          "2023-01-13",
          "2023-01-14",
          "2023-01-20",
          "2023-02-09",
          "2023-03-03",
          "2023-06-05",
          "2023-06-28",
          "2023-07-19",
          "2023-07-20",
          "2023-07-22",
          "2023-07-28",
          "2023-08-05",
          "2023-08-13",
          "2023-09-06",
          "2023-09-08",
          "2023-09-29",
          "2023-10-30",
          "2023-11-10",
          "2023-11-21",
          "2023-12-26",
          "2024-02-24",
          "2024-03-06",
          "2024-03-07"
         ],
         "xaxis": "x",
         "y": [
          1,
          1,
          1,
          1,
          1,
          1,
          1,
          1,
          1,
          1,
          2,
          1,
          1,
          1,
          1,
          1,
          1,
          1,
          1,
          1,
          1,
          1,
          1,
          1,
          1,
          1,
          2,
          1
         ],
         "yaxis": "y"
        }
       ],
       "layout": {
        "legend": {
         "title": {
          "text": "Topic"
         },
         "tracegroupgap": 0
        },
        "template": {
         "data": {
          "bar": [
           {
            "error_x": {
             "color": "#2a3f5f"
            },
            "error_y": {
             "color": "#2a3f5f"
            },
            "marker": {
             "line": {
              "color": "#E5ECF6",
              "width": 0.5
             },
             "pattern": {
              "fillmode": "overlay",
              "size": 10,
              "solidity": 0.2
             }
            },
            "type": "bar"
           }
          ],
          "barpolar": [
           {
            "marker": {
             "line": {
              "color": "#E5ECF6",
              "width": 0.5
             },
             "pattern": {
              "fillmode": "overlay",
              "size": 10,
              "solidity": 0.2
             }
            },
            "type": "barpolar"
           }
          ],
          "carpet": [
           {
            "aaxis": {
             "endlinecolor": "#2a3f5f",
             "gridcolor": "white",
             "linecolor": "white",
             "minorgridcolor": "white",
             "startlinecolor": "#2a3f5f"
            },
            "baxis": {
             "endlinecolor": "#2a3f5f",
             "gridcolor": "white",
             "linecolor": "white",
             "minorgridcolor": "white",
             "startlinecolor": "#2a3f5f"
            },
            "type": "carpet"
           }
          ],
          "choropleth": [
           {
            "colorbar": {
             "outlinewidth": 0,
             "ticks": ""
            },
            "type": "choropleth"
           }
          ],
          "contour": [
           {
            "colorbar": {
             "outlinewidth": 0,
             "ticks": ""
            },
            "colorscale": [
             [
              0,
              "#0d0887"
             ],
             [
              0.1111111111111111,
              "#46039f"
             ],
             [
              0.2222222222222222,
              "#7201a8"
             ],
             [
              0.3333333333333333,
              "#9c179e"
             ],
             [
              0.4444444444444444,
              "#bd3786"
             ],
             [
              0.5555555555555556,
              "#d8576b"
             ],
             [
              0.6666666666666666,
              "#ed7953"
             ],
             [
              0.7777777777777778,
              "#fb9f3a"
             ],
             [
              0.8888888888888888,
              "#fdca26"
             ],
             [
              1,
              "#f0f921"
             ]
            ],
            "type": "contour"
           }
          ],
          "contourcarpet": [
           {
            "colorbar": {
             "outlinewidth": 0,
             "ticks": ""
            },
            "type": "contourcarpet"
           }
          ],
          "heatmap": [
           {
            "colorbar": {
             "outlinewidth": 0,
             "ticks": ""
            },
            "colorscale": [
             [
              0,
              "#0d0887"
             ],
             [
              0.1111111111111111,
              "#46039f"
             ],
             [
              0.2222222222222222,
              "#7201a8"
             ],
             [
              0.3333333333333333,
              "#9c179e"
             ],
             [
              0.4444444444444444,
              "#bd3786"
             ],
             [
              0.5555555555555556,
              "#d8576b"
             ],
             [
              0.6666666666666666,
              "#ed7953"
             ],
             [
              0.7777777777777778,
              "#fb9f3a"
             ],
             [
              0.8888888888888888,
              "#fdca26"
             ],
             [
              1,
              "#f0f921"
             ]
            ],
            "type": "heatmap"
           }
          ],
          "heatmapgl": [
           {
            "colorbar": {
             "outlinewidth": 0,
             "ticks": ""
            },
            "colorscale": [
             [
              0,
              "#0d0887"
             ],
             [
              0.1111111111111111,
              "#46039f"
             ],
             [
              0.2222222222222222,
              "#7201a8"
             ],
             [
              0.3333333333333333,
              "#9c179e"
             ],
             [
              0.4444444444444444,
              "#bd3786"
             ],
             [
              0.5555555555555556,
              "#d8576b"
             ],
             [
              0.6666666666666666,
              "#ed7953"
             ],
             [
              0.7777777777777778,
              "#fb9f3a"
             ],
             [
              0.8888888888888888,
              "#fdca26"
             ],
             [
              1,
              "#f0f921"
             ]
            ],
            "type": "heatmapgl"
           }
          ],
          "histogram": [
           {
            "marker": {
             "pattern": {
              "fillmode": "overlay",
              "size": 10,
              "solidity": 0.2
             }
            },
            "type": "histogram"
           }
          ],
          "histogram2d": [
           {
            "colorbar": {
             "outlinewidth": 0,
             "ticks": ""
            },
            "colorscale": [
             [
              0,
              "#0d0887"
             ],
             [
              0.1111111111111111,
              "#46039f"
             ],
             [
              0.2222222222222222,
              "#7201a8"
             ],
             [
              0.3333333333333333,
              "#9c179e"
             ],
             [
              0.4444444444444444,
              "#bd3786"
             ],
             [
              0.5555555555555556,
              "#d8576b"
             ],
             [
              0.6666666666666666,
              "#ed7953"
             ],
             [
              0.7777777777777778,
              "#fb9f3a"
             ],
             [
              0.8888888888888888,
              "#fdca26"
             ],
             [
              1,
              "#f0f921"
             ]
            ],
            "type": "histogram2d"
           }
          ],
          "histogram2dcontour": [
           {
            "colorbar": {
             "outlinewidth": 0,
             "ticks": ""
            },
            "colorscale": [
             [
              0,
              "#0d0887"
             ],
             [
              0.1111111111111111,
              "#46039f"
             ],
             [
              0.2222222222222222,
              "#7201a8"
             ],
             [
              0.3333333333333333,
              "#9c179e"
             ],
             [
              0.4444444444444444,
              "#bd3786"
             ],
             [
              0.5555555555555556,
              "#d8576b"
             ],
             [
              0.6666666666666666,
              "#ed7953"
             ],
             [
              0.7777777777777778,
              "#fb9f3a"
             ],
             [
              0.8888888888888888,
              "#fdca26"
             ],
             [
              1,
              "#f0f921"
             ]
            ],
            "type": "histogram2dcontour"
           }
          ],
          "mesh3d": [
           {
            "colorbar": {
             "outlinewidth": 0,
             "ticks": ""
            },
            "type": "mesh3d"
           }
          ],
          "parcoords": [
           {
            "line": {
             "colorbar": {
              "outlinewidth": 0,
              "ticks": ""
             }
            },
            "type": "parcoords"
           }
          ],
          "pie": [
           {
            "automargin": true,
            "type": "pie"
           }
          ],
          "scatter": [
           {
            "fillpattern": {
             "fillmode": "overlay",
             "size": 10,
             "solidity": 0.2
            },
            "type": "scatter"
           }
          ],
          "scatter3d": [
           {
            "line": {
             "colorbar": {
              "outlinewidth": 0,
              "ticks": ""
             }
            },
            "marker": {
             "colorbar": {
              "outlinewidth": 0,
              "ticks": ""
             }
            },
            "type": "scatter3d"
           }
          ],
          "scattercarpet": [
           {
            "marker": {
             "colorbar": {
              "outlinewidth": 0,
              "ticks": ""
             }
            },
            "type": "scattercarpet"
           }
          ],
          "scattergeo": [
           {
            "marker": {
             "colorbar": {
              "outlinewidth": 0,
              "ticks": ""
             }
            },
            "type": "scattergeo"
           }
          ],
          "scattergl": [
           {
            "marker": {
             "colorbar": {
              "outlinewidth": 0,
              "ticks": ""
             }
            },
            "type": "scattergl"
           }
          ],
          "scattermapbox": [
           {
            "marker": {
             "colorbar": {
              "outlinewidth": 0,
              "ticks": ""
             }
            },
            "type": "scattermapbox"
           }
          ],
          "scatterpolar": [
           {
            "marker": {
             "colorbar": {
              "outlinewidth": 0,
              "ticks": ""
             }
            },
            "type": "scatterpolar"
           }
          ],
          "scatterpolargl": [
           {
            "marker": {
             "colorbar": {
              "outlinewidth": 0,
              "ticks": ""
             }
            },
            "type": "scatterpolargl"
           }
          ],
          "scatterternary": [
           {
            "marker": {
             "colorbar": {
              "outlinewidth": 0,
              "ticks": ""
             }
            },
            "type": "scatterternary"
           }
          ],
          "surface": [
           {
            "colorbar": {
             "outlinewidth": 0,
             "ticks": ""
            },
            "colorscale": [
             [
              0,
              "#0d0887"
             ],
             [
              0.1111111111111111,
              "#46039f"
             ],
             [
              0.2222222222222222,
              "#7201a8"
             ],
             [
              0.3333333333333333,
              "#9c179e"
             ],
             [
              0.4444444444444444,
              "#bd3786"
             ],
             [
              0.5555555555555556,
              "#d8576b"
             ],
             [
              0.6666666666666666,
              "#ed7953"
             ],
             [
              0.7777777777777778,
              "#fb9f3a"
             ],
             [
              0.8888888888888888,
              "#fdca26"
             ],
             [
              1,
              "#f0f921"
             ]
            ],
            "type": "surface"
           }
          ],
          "table": [
           {
            "cells": {
             "fill": {
              "color": "#EBF0F8"
             },
             "line": {
              "color": "white"
             }
            },
            "header": {
             "fill": {
              "color": "#C8D4E3"
             },
             "line": {
              "color": "white"
             }
            },
            "type": "table"
           }
          ]
         },
         "layout": {
          "annotationdefaults": {
           "arrowcolor": "#2a3f5f",
           "arrowhead": 0,
           "arrowwidth": 1
          },
          "autotypenumbers": "strict",
          "coloraxis": {
           "colorbar": {
            "outlinewidth": 0,
            "ticks": ""
           }
          },
          "colorscale": {
           "diverging": [
            [
             0,
             "#8e0152"
            ],
            [
             0.1,
             "#c51b7d"
            ],
            [
             0.2,
             "#de77ae"
            ],
            [
             0.3,
             "#f1b6da"
            ],
            [
             0.4,
             "#fde0ef"
            ],
            [
             0.5,
             "#f7f7f7"
            ],
            [
             0.6,
             "#e6f5d0"
            ],
            [
             0.7,
             "#b8e186"
            ],
            [
             0.8,
             "#7fbc41"
            ],
            [
             0.9,
             "#4d9221"
            ],
            [
             1,
             "#276419"
            ]
           ],
           "sequential": [
            [
             0,
             "#0d0887"
            ],
            [
             0.1111111111111111,
             "#46039f"
            ],
            [
             0.2222222222222222,
             "#7201a8"
            ],
            [
             0.3333333333333333,
             "#9c179e"
            ],
            [
             0.4444444444444444,
             "#bd3786"
            ],
            [
             0.5555555555555556,
             "#d8576b"
            ],
            [
             0.6666666666666666,
             "#ed7953"
            ],
            [
             0.7777777777777778,
             "#fb9f3a"
            ],
            [
             0.8888888888888888,
             "#fdca26"
            ],
            [
             1,
             "#f0f921"
            ]
           ],
           "sequentialminus": [
            [
             0,
             "#0d0887"
            ],
            [
             0.1111111111111111,
             "#46039f"
            ],
            [
             0.2222222222222222,
             "#7201a8"
            ],
            [
             0.3333333333333333,
             "#9c179e"
            ],
            [
             0.4444444444444444,
             "#bd3786"
            ],
            [
             0.5555555555555556,
             "#d8576b"
            ],
            [
             0.6666666666666666,
             "#ed7953"
            ],
            [
             0.7777777777777778,
             "#fb9f3a"
            ],
            [
             0.8888888888888888,
             "#fdca26"
            ],
            [
             1,
             "#f0f921"
            ]
           ]
          },
          "colorway": [
           "#636efa",
           "#EF553B",
           "#00cc96",
           "#ab63fa",
           "#FFA15A",
           "#19d3f3",
           "#FF6692",
           "#B6E880",
           "#FF97FF",
           "#FECB52"
          ],
          "font": {
           "color": "#2a3f5f"
          },
          "geo": {
           "bgcolor": "white",
           "lakecolor": "white",
           "landcolor": "#E5ECF6",
           "showlakes": true,
           "showland": true,
           "subunitcolor": "white"
          },
          "hoverlabel": {
           "align": "left"
          },
          "hovermode": "closest",
          "mapbox": {
           "style": "light"
          },
          "paper_bgcolor": "white",
          "plot_bgcolor": "#E5ECF6",
          "polar": {
           "angularaxis": {
            "gridcolor": "white",
            "linecolor": "white",
            "ticks": ""
           },
           "bgcolor": "#E5ECF6",
           "radialaxis": {
            "gridcolor": "white",
            "linecolor": "white",
            "ticks": ""
           }
          },
          "scene": {
           "xaxis": {
            "backgroundcolor": "#E5ECF6",
            "gridcolor": "white",
            "gridwidth": 2,
            "linecolor": "white",
            "showbackground": true,
            "ticks": "",
            "zerolinecolor": "white"
           },
           "yaxis": {
            "backgroundcolor": "#E5ECF6",
            "gridcolor": "white",
            "gridwidth": 2,
            "linecolor": "white",
            "showbackground": true,
            "ticks": "",
            "zerolinecolor": "white"
           },
           "zaxis": {
            "backgroundcolor": "#E5ECF6",
            "gridcolor": "white",
            "gridwidth": 2,
            "linecolor": "white",
            "showbackground": true,
            "ticks": "",
            "zerolinecolor": "white"
           }
          },
          "shapedefaults": {
           "line": {
            "color": "#2a3f5f"
           }
          },
          "ternary": {
           "aaxis": {
            "gridcolor": "white",
            "linecolor": "white",
            "ticks": ""
           },
           "baxis": {
            "gridcolor": "white",
            "linecolor": "white",
            "ticks": ""
           },
           "bgcolor": "#E5ECF6",
           "caxis": {
            "gridcolor": "white",
            "linecolor": "white",
            "ticks": ""
           }
          },
          "title": {
           "x": 0.05
          },
          "xaxis": {
           "automargin": true,
           "gridcolor": "white",
           "linecolor": "white",
           "ticks": "",
           "title": {
            "standoff": 15
           },
           "zerolinecolor": "white",
           "zerolinewidth": 2
          },
          "yaxis": {
           "automargin": true,
           "gridcolor": "white",
           "linecolor": "white",
           "ticks": "",
           "title": {
            "standoff": 15
           },
           "zerolinecolor": "white",
           "zerolinewidth": 2
          }
         }
        },
        "title": {
         "text": "Number of Reviews by Topics over time"
        },
        "xaxis": {
         "anchor": "y",
         "domain": [
          0,
          1
         ],
         "range": [
          "2023-01-24",
          "2023-07-19"
         ],
         "title": {
          "text": "Date"
         }
        },
        "yaxis": {
         "anchor": "x",
         "domain": [
          0,
          1
         ],
         "title": {
          "text": "Number of Reviews"
         }
        }
       }
      }
     },
     "metadata": {},
     "output_type": "display_data"
    }
   ],
   "source": [
    "topics_over_time = px.line(df, 'date_clean', 'num_reviews', color='Topic_Name', \n",
    "                           labels={\"date_clean\":\"Date\", \"num_reviews\":\"Number of Reviews\", \"Topic_Name\":\"Topic\"}, \n",
    "                           title=\"Number of Reviews by Topics over time\")\n",
    "# update date range\n",
    "topics_over_time.update_xaxes(range=[s,e])\n",
    "\n",
    "topics_over_time.show()"
   ]
  },
  {
   "cell_type": "markdown",
   "metadata": {},
   "source": [
    "### dash"
   ]
  },
  {
   "cell_type": "code",
   "execution_count": 16,
   "metadata": {},
   "outputs": [
    {
     "data": {
      "text/html": [
       "\n",
       "        <iframe\n",
       "            width=\"100%\"\n",
       "            height=\"650\"\n",
       "            src=\"http://127.0.0.1:8050/\"\n",
       "            frameborder=\"0\"\n",
       "            allowfullscreen\n",
       "            \n",
       "        ></iframe>\n",
       "        "
      ],
      "text/plain": [
       "<IPython.lib.display.IFrame at 0x185618b1c40>"
      ]
     },
     "metadata": {},
     "output_type": "display_data"
    },
    {
     "name": "stdout",
     "output_type": "stream",
     "text": [
      "---------------------------------------------------------------------------\n",
      "SchemaTypeValidationError                 Traceback (most recent call last)\n",
      "SchemaTypeValidationError: Schema: [<Output `tot.figure`>, <Output `output-container-date-picker-range.children`>]\n",
      "Path: ()\n",
      "Expected type: (<class 'tuple'>, <class 'list'>)\n",
      "Received value of type <class 'NoneType'>:\n",
      "    None\n",
      "\n",
      "---------------------------------------------------------------------------\n",
      "SchemaTypeValidationError                 Traceback (most recent call last)\n",
      "SchemaTypeValidationError: Schema: [<Output `tot.figure`>, <Output `output-container-date-picker-range.children`>]\n",
      "                Path: ()\n",
      "                Expected type: (<class 'tuple'>, <class 'list'>)\n",
      "                Received value of type <class 'plotly.graph_objs._figure.Figure'>:\n",
      "                    Figure({\n",
      "    'data': [{'hovertemplate': 'Topic=App Responsiveness<br>Date=%{x}<br>Number of Reviews=%{y}<extra></extra>',\n",
      "              'legendgroup': 'App Responsiveness',\n",
      "              'line': {'color': '#636efa', 'dash': 'solid'},\n",
      "              'marker': {'symbol': 'circle'},\n",
      "              'mode': 'lines',\n",
      "              'name': 'App Responsiveness',\n",
      "              'orientation': 'v',\n",
      "              'showlegend': True,\n",
      "              'type': 'scatter',\n",
      "              'x': array([datetime.date(2022, 10, 4), datetime.date(2022, 10, 7),\n",
      "                          datetime.date(2022, 10, 9), datetime.date(2022, 12, 7),\n",
      "                          datetime.date(2022, 12, 8), datetime.date(2023, 1, 24),\n",
      "                          datetime.date(2023, 4, 23), datetime.date(2023, 4, 29),\n",
      "                          datetime.date(2023, 6, 5), datetime.date(2023, 7, 1),\n",
      "                          datetime.date(2023, 7, 19), datetime.date(2023, 7, 21),\n",
      "                          datetime.date(2023, 7, 22), datetime.date(2023, 7, 31),\n",
      "                          datetime.date(2023, 8, 7), datetime.date(2023, 8, 31),\n",
      "                          datetime.date(2023, 9, 7), datetime.date(2023, 9, 13),\n",
      "                          datetime.date(2023, 9, 18), datetime.date(2023, 9, 25),\n",
      "                          datetime.date(2023, 10, 5), datetime.date(2023, 10, 8),\n",
      "                          datetime.date(2023, 11, 2), datetime.date(2023, 11, 9),\n",
      "                          datetime.date(2023, 11, 11), datetime.date(2023, 12, 3),\n",
      "                          datetime.date(2023, 12, 6), datetime.date(2023, 12, 23),\n",
      "                          datetime.date(2024, 1, 14), datetime.date(2024, 2, 25),\n",
      "                          datetime.date(2024, 3, 6)], dtype=object),\n",
      "              'xaxis': 'x',\n",
      "              'y': array([1, 1, 1, 1, 1, 1, 1, 1, 2, 1, 2, 1, 1, 1, 1, 1, 1, 1, 1, 1, 1, 1, 1, 1,\n",
      "                          1, 1, 1, 1, 1, 1, 1], dtype=int64),\n",
      "              'yaxis': 'y'},\n",
      "             {'hovertemplate': 'Topic=Competition<br>Date=%{x}<br>Number of Reviews=%{y}<extra></extra>',\n",
      "              'legendgroup': 'Competition',\n",
      "              'line': {'color': '#EF553B', 'dash': 'solid'},\n",
      "              'marker': {'symbol': 'circle'},\n",
      "              'mode': 'lines',\n",
      "              'name': 'Competition',\n",
      "              'orientation': 'v',\n",
      "              'showlegend': True,\n",
      "              'type': 'scatter',\n",
      "              'x': array([datetime.date(2022, 10, 4), datetime.date(2023, 2, 8),\n",
      "                          datetime.date(2023, 4, 26), datetime.date(2023, 5, 1),\n",
      "                          datetime.date(2023, 5, 24), datetime.date(2023, 6, 5),\n",
      "                          datetime.date(2023, 7, 19), datetime.date(2023, 7, 21),\n",
      "                          datetime.date(2023, 7, 22), datetime.date(2023, 7, 25),\n",
      "                          datetime.date(2023, 7, 28), datetime.date(2023, 8, 24),\n",
      "                          datetime.date(2023, 9, 7), datetime.date(2023, 9, 18),\n",
      "                          datetime.date(2023, 10, 7), datetime.date(2023, 11, 15),\n",
      "                          datetime.date(2023, 11, 16), datetime.date(2023, 11, 18),\n",
      "                          datetime.date(2023, 11, 29), datetime.date(2023, 12, 9),\n",
      "                          datetime.date(2023, 12, 10), datetime.date(2023, 12, 30),\n",
      "                          datetime.date(2024, 1, 18), datetime.date(2024, 3, 8)], dtype=object),\n",
      "              'xaxis': 'x',\n",
      "              'y': array([1, 1, 1, 1, 1, 1, 1, 1, 1, 1, 1, 1, 1, 1, 1, 1, 1, 1, 1, 1, 1, 1, 1, 1],\n",
      "                         dtype=int64),\n",
      "              'yaxis': 'y'},\n",
      "             {'hovertemplate': 'Topic=Credit card usage<br>Date=%{x}<br>Number of Reviews=%{y}<extra></extra>',\n",
      "              'legendgroup': 'Credit card usage',\n",
      "              'line': {'color': '#00cc96', 'dash': 'solid'},\n",
      "              'marker': {'symbol': 'circle'},\n",
      "              'mode': 'lines',\n",
      "              'name': 'Credit card usage',\n",
      "              'orientation': 'v',\n",
      "              'showlegend': True,\n",
      "              'type': 'scatter',\n",
      "              'x': array([datetime.date(2022, 9, 6), datetime.date(2022, 10, 3),\n",
      "                          datetime.date(2022, 10, 4), datetime.date(2022, 12, 12),\n",
      "                          datetime.date(2023, 2, 13), datetime.date(2023, 2, 20),\n",
      "                          datetime.date(2023, 5, 1), datetime.date(2023, 6, 15),\n",
      "                          datetime.date(2023, 6, 28), datetime.date(2023, 7, 6),\n",
      "                          datetime.date(2023, 7, 20), datetime.date(2023, 7, 21),\n",
      "                          datetime.date(2023, 7, 27), datetime.date(2023, 8, 7),\n",
      "                          datetime.date(2023, 8, 8), datetime.date(2023, 8, 11),\n",
      "                          datetime.date(2023, 8, 17), datetime.date(2023, 9, 6),\n",
      "                          datetime.date(2023, 9, 11), datetime.date(2023, 10, 12),\n",
      "                          datetime.date(2023, 11, 11), datetime.date(2023, 11, 15),\n",
      "                          datetime.date(2023, 12, 4), datetime.date(2023, 12, 21),\n",
      "                          datetime.date(2024, 1, 12), datetime.date(2024, 3, 10)], dtype=object),\n",
      "              'xaxis': 'x',\n",
      "              'y': array([1, 1, 1, 1, 1, 1, 1, 1, 1, 1, 1, 1, 1, 2, 1, 1, 1, 1, 1, 1, 1, 1, 1, 1,\n",
      "                          1, 1], dtype=int64),\n",
      "              'yaxis': 'y'},\n",
      "             {'hovertemplate': 'Topic=Customer Services<br>Date=%{x}<br>Number of Reviews=%{y}<extra></extra>',\n",
      "              'legendgroup': 'Customer Services',\n",
      "              'line': {'color': '#ab63fa', 'dash': 'solid'},\n",
      "              'marker': {'symbol': 'circle'},\n",
      "              'mode': 'lines',\n",
      "              'name': 'Customer Services',\n",
      "              'orientation': 'v',\n",
      "              'showlegend': True,\n",
      "              'type': 'scatter',\n",
      "              'x': array([datetime.date(2022, 9, 5), datetime.date(2022, 9, 9),\n",
      "                          datetime.date(2022, 9, 25), datetime.date(2022, 12, 19),\n",
      "                          datetime.date(2023, 1, 20), datetime.date(2023, 1, 24),\n",
      "                          datetime.date(2023, 2, 11), datetime.date(2023, 2, 15),\n",
      "                          datetime.date(2023, 6, 16), datetime.date(2023, 7, 15),\n",
      "                          datetime.date(2023, 7, 17), datetime.date(2023, 7, 19),\n",
      "                          datetime.date(2023, 7, 20), datetime.date(2023, 7, 23),\n",
      "                          datetime.date(2023, 7, 24), datetime.date(2023, 7, 25),\n",
      "                          datetime.date(2023, 7, 27), datetime.date(2023, 7, 28),\n",
      "                          datetime.date(2023, 8, 2), datetime.date(2023, 8, 5),\n",
      "                          datetime.date(2023, 8, 7), datetime.date(2023, 8, 25),\n",
      "                          datetime.date(2023, 8, 26), datetime.date(2023, 8, 27),\n",
      "                          datetime.date(2023, 8, 30), datetime.date(2023, 9, 15),\n",
      "                          datetime.date(2023, 10, 8), datetime.date(2023, 12, 6),\n",
      "                          datetime.date(2023, 12, 7), datetime.date(2024, 1, 15)], dtype=object),\n",
      "              'xaxis': 'x',\n",
      "              'y': array([1, 1, 1, 1, 1, 1, 1, 1, 1, 1, 1, 4, 5, 2, 2, 1, 1, 2, 1, 1, 1, 1, 1, 1,\n",
      "                          1, 1, 1, 1, 2, 1], dtype=int64),\n",
      "              'yaxis': 'y'},\n",
      "             {'hovertemplate': 'Topic=Customer trust<br>Date=%{x}<br>Number of Reviews=%{y}<extra></extra>',\n",
      "              'legendgroup': 'Customer trust',\n",
      "              'line': {'color': '#FFA15A', 'dash': 'solid'},\n",
      "              'marker': {'symbol': 'circle'},\n",
      "              'mode': 'lines',\n",
      "              'name': 'Customer trust',\n",
      "              'orientation': 'v',\n",
      "              'showlegend': True,\n",
      "              'type': 'scatter',\n",
      "              'x': array([datetime.date(2022, 9, 6), datetime.date(2022, 9, 12),\n",
      "                          datetime.date(2022, 10, 3), datetime.date(2022, 12, 7),\n",
      "                          datetime.date(2022, 12, 9), datetime.date(2022, 12, 10),\n",
      "                          datetime.date(2022, 12, 14), datetime.date(2022, 12, 16),\n",
      "                          datetime.date(2022, 12, 30), datetime.date(2023, 2, 18),\n",
      "                          datetime.date(2023, 4, 2), datetime.date(2023, 5, 4),\n",
      "                          datetime.date(2023, 5, 12), datetime.date(2023, 5, 30),\n",
      "                          datetime.date(2023, 6, 5), datetime.date(2023, 6, 6),\n",
      "                          datetime.date(2023, 7, 9), datetime.date(2023, 7, 11),\n",
      "                          datetime.date(2023, 7, 14), datetime.date(2023, 7, 19),\n",
      "                          datetime.date(2023, 7, 20), datetime.date(2023, 7, 23),\n",
      "                          datetime.date(2023, 7, 28), datetime.date(2023, 8, 16),\n",
      "                          datetime.date(2023, 9, 2), datetime.date(2023, 9, 10),\n",
      "                          datetime.date(2023, 9, 17), datetime.date(2023, 9, 25),\n",
      "                          datetime.date(2023, 10, 8), datetime.date(2023, 11, 10),\n",
      "                          datetime.date(2023, 11, 14), datetime.date(2024, 3, 4),\n",
      "                          datetime.date(2024, 3, 9)], dtype=object),\n",
      "              'xaxis': 'x',\n",
      "              'y': array([1, 1, 1, 2, 1, 1, 1, 1, 1, 1, 1, 1, 1, 1, 2, 1, 1, 1, 1, 2, 1, 2, 1, 1,\n",
      "                          1, 1, 1, 1, 1, 1, 1, 1, 1], dtype=int64),\n",
      "              'yaxis': 'y'},\n",
      "             {'hovertemplate': ('Topic=Login & Account Setup<br' ... 'of Reviews=%{y}<extra></extra>'),\n",
      "              'legendgroup': 'Login & Account Setup',\n",
      "              'line': {'color': '#19d3f3', 'dash': 'solid'},\n",
      "              'marker': {'symbol': 'circle'},\n",
      "              'mode': 'lines',\n",
      "              'name': 'Login & Account Setup',\n",
      "              'orientation': 'v',\n",
      "              'showlegend': True,\n",
      "              'type': 'scatter',\n",
      "              'x': array([datetime.date(2022, 10, 3), datetime.date(2022, 11, 1),\n",
      "                          datetime.date(2022, 12, 7), datetime.date(2022, 12, 10),\n",
      "                          datetime.date(2022, 12, 27), datetime.date(2023, 1, 14),\n",
      "                          datetime.date(2023, 1, 25), datetime.date(2023, 2, 26),\n",
      "                          datetime.date(2023, 3, 21), datetime.date(2023, 5, 2),\n",
      "                          datetime.date(2023, 6, 5), datetime.date(2023, 7, 11),\n",
      "                          datetime.date(2023, 7, 19), datetime.date(2023, 7, 21),\n",
      "                          datetime.date(2023, 7, 25), datetime.date(2023, 8, 2),\n",
      "                          datetime.date(2023, 9, 9), datetime.date(2023, 9, 16),\n",
      "                          datetime.date(2023, 9, 25), datetime.date(2023, 11, 16),\n",
      "                          datetime.date(2024, 1, 25), datetime.date(2024, 2, 7),\n",
      "                          datetime.date(2024, 2, 18), datetime.date(2024, 3, 10)], dtype=object),\n",
      "              'xaxis': 'x',\n",
      "              'y': array([1, 1, 1, 1, 1, 1, 1, 1, 1, 1, 1, 1, 1, 1, 1, 1, 1, 1, 1, 1, 1, 1, 1, 2],\n",
      "                         dtype=int64),\n",
      "              'yaxis': 'y'},\n",
      "             {'hovertemplate': ('Topic=Money Growth (Interest R' ... 'of Reviews=%{y}<extra></extra>'),\n",
      "              'legendgroup': 'Money Growth (Interest Rates)',\n",
      "              'line': {'color': '#FF6692', 'dash': 'solid'},\n",
      "              'marker': {'symbol': 'circle'},\n",
      "              'mode': 'lines',\n",
      "              'name': 'Money Growth (Interest Rates)',\n",
      "              'orientation': 'v',\n",
      "              'showlegend': True,\n",
      "              'type': 'scatter',\n",
      "              'x': array([datetime.date(2022, 10, 3), datetime.date(2022, 10, 31),\n",
      "                          datetime.date(2022, 12, 9), datetime.date(2022, 12, 27),\n",
      "                          datetime.date(2022, 12, 28), datetime.date(2023, 1, 17),\n",
      "                          datetime.date(2023, 1, 31), datetime.date(2023, 2, 1),\n",
      "                          datetime.date(2023, 2, 5), datetime.date(2023, 4, 22),\n",
      "                          datetime.date(2023, 4, 27), datetime.date(2023, 6, 5),\n",
      "                          datetime.date(2023, 6, 25), datetime.date(2023, 7, 10),\n",
      "                          datetime.date(2023, 7, 26), datetime.date(2023, 7, 27),\n",
      "                          datetime.date(2023, 8, 2), datetime.date(2023, 8, 7),\n",
      "                          datetime.date(2023, 8, 11), datetime.date(2023, 8, 17),\n",
      "                          datetime.date(2023, 8, 29), datetime.date(2023, 9, 6),\n",
      "                          datetime.date(2023, 9, 10), datetime.date(2023, 9, 12),\n",
      "                          datetime.date(2023, 9, 15), datetime.date(2023, 9, 19),\n",
      "                          datetime.date(2023, 10, 13), datetime.date(2023, 10, 24),\n",
      "                          datetime.date(2023, 11, 4), datetime.date(2023, 11, 10),\n",
      "                          datetime.date(2023, 11, 11), datetime.date(2023, 11, 16),\n",
      "                          datetime.date(2023, 11, 22), datetime.date(2023, 12, 6),\n",
      "                          datetime.date(2023, 12, 7), datetime.date(2023, 12, 22),\n",
      "                          datetime.date(2024, 1, 11), datetime.date(2024, 1, 26)], dtype=object),\n",
      "              'xaxis': 'x',\n",
      "              'y': array([1, 1, 1, 1, 1, 1, 1, 1, 1, 1, 1, 2, 1, 1, 1, 1, 2, 6, 1, 1, 1, 1, 1, 1,\n",
      "                          1, 1, 1, 1, 1, 2, 1, 1, 1, 2, 1, 1, 1, 1], dtype=int64),\n",
      "              'yaxis': 'y'},\n",
      "             {'hovertemplate': 'Topic=Safety<br>Date=%{x}<br>Number of Reviews=%{y}<extra></extra>',\n",
      "              'legendgroup': 'Safety',\n",
      "              'line': {'color': '#B6E880', 'dash': 'solid'},\n",
      "              'marker': {'symbol': 'circle'},\n",
      "              'mode': 'lines',\n",
      "              'name': 'Safety',\n",
      "              'orientation': 'v',\n",
      "              'showlegend': True,\n",
      "              'type': 'scatter',\n",
      "              'x': array([datetime.date(2022, 9, 4), datetime.date(2022, 9, 7),\n",
      "                          datetime.date(2022, 10, 27), datetime.date(2023, 1, 29),\n",
      "                          datetime.date(2023, 2, 1), datetime.date(2023, 2, 22),\n",
      "                          datetime.date(2023, 6, 5), datetime.date(2023, 6, 22),\n",
      "                          datetime.date(2023, 7, 20), datetime.date(2023, 7, 21),\n",
      "                          datetime.date(2023, 7, 26), datetime.date(2023, 7, 27),\n",
      "                          datetime.date(2023, 9, 5), datetime.date(2023, 9, 19),\n",
      "                          datetime.date(2023, 10, 6), datetime.date(2023, 10, 19),\n",
      "                          datetime.date(2023, 10, 24), datetime.date(2023, 11, 10),\n",
      "                          datetime.date(2023, 11, 16), datetime.date(2023, 11, 20),\n",
      "                          datetime.date(2023, 11, 21), datetime.date(2023, 11, 25),\n",
      "                          datetime.date(2023, 12, 30), datetime.date(2024, 2, 14),\n",
      "                          datetime.date(2024, 2, 21)], dtype=object),\n",
      "              'xaxis': 'x',\n",
      "              'y': array([1, 1, 1, 1, 1, 1, 1, 1, 1, 1, 1, 1, 1, 1, 1, 1, 1, 1, 1, 1, 1, 1, 1, 1,\n",
      "                          1], dtype=int64),\n",
      "              'yaxis': 'y'},\n",
      "             {'hovertemplate': 'Topic=Services & Products<br>Date=%{x}<br>Number of Reviews=%{y}<extra></extra>',\n",
      "              'legendgroup': 'Services & Products',\n",
      "              'line': {'color': '#FF97FF', 'dash': 'solid'},\n",
      "              'marker': {'symbol': 'circle'},\n",
      "              'mode': 'lines',\n",
      "              'name': 'Services & Products',\n",
      "              'orientation': 'v',\n",
      "              'showlegend': True,\n",
      "              'type': 'scatter',\n",
      "              'x': array([datetime.date(2022, 9, 3), datetime.date(2022, 9, 12),\n",
      "                          datetime.date(2022, 12, 9), datetime.date(2023, 5, 10),\n",
      "                          datetime.date(2023, 6, 5), datetime.date(2023, 7, 24),\n",
      "                          datetime.date(2023, 7, 30), datetime.date(2023, 8, 7),\n",
      "                          datetime.date(2023, 8, 8), datetime.date(2023, 8, 18),\n",
      "                          datetime.date(2023, 8, 23), datetime.date(2023, 8, 25),\n",
      "                          datetime.date(2023, 9, 17), datetime.date(2023, 10, 4),\n",
      "                          datetime.date(2023, 10, 8), datetime.date(2023, 11, 12),\n",
      "                          datetime.date(2023, 11, 16), datetime.date(2023, 11, 21),\n",
      "                          datetime.date(2023, 11, 23), datetime.date(2023, 11, 24),\n",
      "                          datetime.date(2023, 11, 25), datetime.date(2023, 12, 18),\n",
      "                          datetime.date(2024, 1, 10), datetime.date(2024, 3, 10)], dtype=object),\n",
      "              'xaxis': 'x',\n",
      "              'y': array([1, 1, 1, 1, 1, 1, 1, 2, 1, 1, 1, 1, 1, 1, 1, 1, 1, 1, 1, 1, 1, 1, 1, 1],\n",
      "                         dtype=int64),\n",
      "              'yaxis': 'y'},\n",
      "             {'hovertemplate': 'Topic=User Interface<br>Date=%{x}<br>Number of Reviews=%{y}<extra></extra>',\n",
      "              'legendgroup': 'User Interface',\n",
      "              'line': {'color': '#FECB52', 'dash': 'solid'},\n",
      "              'marker': {'symbol': 'circle'},\n",
      "              'mode': 'lines',\n",
      "              'name': 'User Interface',\n",
      "              'orientation': 'v',\n",
      "              'showlegend': True,\n",
      "              'type': 'scatter',\n",
      "              'x': array([datetime.date(2022, 9, 3), datetime.date(2022, 9, 6),\n",
      "                          datetime.date(2022, 9, 10), datetime.date(2022, 10, 2),\n",
      "                          datetime.date(2022, 12, 8), datetime.date(2023, 1, 13),\n",
      "                          datetime.date(2023, 1, 14), datetime.date(2023, 1, 20),\n",
      "                          datetime.date(2023, 2, 9), datetime.date(2023, 3, 3),\n",
      "                          datetime.date(2023, 6, 5), datetime.date(2023, 6, 28),\n",
      "                          datetime.date(2023, 7, 19), datetime.date(2023, 7, 20),\n",
      "                          datetime.date(2023, 7, 22), datetime.date(2023, 7, 28),\n",
      "                          datetime.date(2023, 8, 5), datetime.date(2023, 8, 13),\n",
      "                          datetime.date(2023, 9, 6), datetime.date(2023, 9, 8),\n",
      "                          datetime.date(2023, 9, 29), datetime.date(2023, 10, 30),\n",
      "                          datetime.date(2023, 11, 10), datetime.date(2023, 11, 21),\n",
      "                          datetime.date(2023, 12, 26), datetime.date(2024, 2, 24),\n",
      "                          datetime.date(2024, 3, 6), datetime.date(2024, 3, 7)], dtype=object),\n",
      "              'xaxis': 'x',\n",
      "              'y': array([1, 1, 1, 1, 1, 1, 1, 1, 1, 1, 2, 1, 1, 1, 1, 1, 1, 1, 1, 1, 1, 1, 1, 1,\n",
      "                          1, 1, 2, 1], dtype=int64),\n",
      "              'yaxis': 'y'}],\n",
      "    'layout': {'legend': {'title': {'text': 'Topic'}, 'tracegroupgap': 0},\n",
      "               'template': '...',\n",
      "               'title': {'text': 'Number of Reviews by Topics over time'},\n",
      "               'xaxis': {'anchor': 'y',\n",
      "                         'domain': [0.0, 1.0],\n",
      "                         'range': [2022-09-06, 2024-03-10],\n",
      "                         'title': {'text': 'Date'}},\n",
      "               'yaxis': {'anchor': 'x', 'domain': [0.0, 1.0], 'title': {'text': 'Number of Reviews'}}}\n",
      "})\n",
      "\n"
     ]
    }
   ],
   "source": [
    "app = Dash(__name__)\n",
    "\n",
    "app.layout = html.Div([\n",
    "    dcc.DatePickerRange(\n",
    "        id='tot_date_picker_range',\n",
    "        min_date_allowed=min_date,\n",
    "        max_date_allowed=max_date,\n",
    "        initial_visible_month=min_date,\n",
    "        end_date=max_date\n",
    "    ),\n",
    "    html.Div(id='output-container-date-picker-range'),\n",
    "    dcc.Graph(id='tot', figure=topics_over_time)\n",
    "])\n",
    "\n",
    "@callback(\n",
    "    Output('tot', 'figure'),\n",
    "    Output('output-container-date-picker-range', 'children'),\n",
    "    Input('tot_date_picker_range', 'start_date'),\n",
    "    Input('tot_date_picker_range', 'end_date'))\n",
    "    \n",
    "def update_tot(start_date, end_date):\n",
    "    if (start_date is not None) and (end_date is not None):\n",
    "        tot = topics_over_time\n",
    "        tot.update_xaxes(range=[start_date,end_date])\n",
    "        return tot\n",
    "\n",
    "def update_output_date_picker(start_date, end_date):\n",
    "    string_prefix = 'You have selected: '\n",
    "    if start_date is not None:\n",
    "        start_date_object = date.fromisoformat(start_date)\n",
    "        start_date_string = start_date_object.strftime('%B %d, %Y')\n",
    "        string_prefix = string_prefix + 'Start Date: ' + start_date_string + ' | '\n",
    "    if end_date is not None:\n",
    "        end_date_object = date.fromisoformat(end_date)\n",
    "        end_date_string = end_date_object.strftime('%B %d, %Y')\n",
    "        string_prefix = string_prefix + 'End Date: ' + end_date_string\n",
    "    if len(string_prefix) == len('You have selected: '):\n",
    "        return 'Select a date to see it displayed here'\n",
    "    else:\n",
    "        return string_prefix\n",
    "\n",
    "\n",
    "if __name__ == '__main__':\n",
    "    app.run(debug=True)\n"
   ]
  },
  {
   "cell_type": "code",
   "execution_count": null,
   "metadata": {},
   "outputs": [],
   "source": []
  }
 ],
 "metadata": {
  "kernelspec": {
   "display_name": "base",
   "language": "python",
   "name": "python3"
  },
  "language_info": {
   "codemirror_mode": {
    "name": "ipython",
    "version": 3
   },
   "file_extension": ".py",
   "mimetype": "text/x-python",
   "name": "python",
   "nbconvert_exporter": "python",
   "pygments_lexer": "ipython3",
   "version": "3.9.13"
  }
 },
 "nbformat": 4,
 "nbformat_minor": 2
}
