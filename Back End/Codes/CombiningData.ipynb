{
 "cells": [
  {
   "cell_type": "code",
   "execution_count": 1,
   "metadata": {},
   "outputs": [],
   "source": [
    "import pandas as pd"
   ]
  },
  {
   "cell_type": "code",
   "execution_count": 2,
   "metadata": {},
   "outputs": [],
   "source": [
    "#import data\n",
    "appStore = pd.read_csv('AppStoreData.csv')\n",
    "googlePlay = pd.read_csv('PlayStoreData.csv')"
   ]
  },
  {
   "cell_type": "code",
   "execution_count": 3,
   "metadata": {},
   "outputs": [],
   "source": [
    "# Developer's response and time\n",
    "# Extract everything after 'body': and before 'modified': with error handling for NaN values\n",
    "appStore['extracted_devresp'] = appStore['developerResponse'].apply(\n",
    "    lambda x: x.split(\"'body': \")[1].split(\", 'modified':\")[0].strip().strip('\"\\'') if isinstance(x, str) else ''\n",
    ")\n",
    "appStore['devresp_time'] = appStore['developerResponse'].apply(\n",
    "    lambda x: x.split(\"'modified': '\")[1].split(\"',\")[0].strip().rstrip(\"'}\") if isinstance(x, str) else ''\n",
    ")"
   ]
  },
  {
   "cell_type": "code",
   "execution_count": 4,
   "metadata": {},
   "outputs": [],
   "source": [
    "appStore = appStore.drop(columns=['isEdited', 'title', 'userName','developerResponse'])"
   ]
  },
  {
   "cell_type": "code",
   "execution_count": 5,
   "metadata": {},
   "outputs": [
    {
     "data": {
      "text/html": [
       "<div>\n",
       "<style scoped>\n",
       "    .dataframe tbody tr th:only-of-type {\n",
       "        vertical-align: middle;\n",
       "    }\n",
       "\n",
       "    .dataframe tbody tr th {\n",
       "        vertical-align: top;\n",
       "    }\n",
       "\n",
       "    .dataframe thead th {\n",
       "        text-align: right;\n",
       "    }\n",
       "</style>\n",
       "<table border=\"1\" class=\"dataframe\">\n",
       "  <thead>\n",
       "    <tr style=\"text-align: right;\">\n",
       "      <th></th>\n",
       "      <th>dataFrom</th>\n",
       "      <th>date</th>\n",
       "      <th>review</th>\n",
       "      <th>rating</th>\n",
       "      <th>extracted_devresp</th>\n",
       "      <th>devresp_time</th>\n",
       "    </tr>\n",
       "  </thead>\n",
       "  <tbody>\n",
       "    <tr>\n",
       "      <th>0</th>\n",
       "      <td>appStore</td>\n",
       "      <td>2024-03-06 08:36:37</td>\n",
       "      <td>Great banking app with attractive interest rat...</td>\n",
       "      <td>4</td>\n",
       "      <td>Hi Eugene! We're thrilled to know that you lik...</td>\n",
       "      <td>2024-03-08T02:53:35Z</td>\n",
       "    </tr>\n",
       "    <tr>\n",
       "      <th>1</th>\n",
       "      <td>appStore</td>\n",
       "      <td>2022-11-09 03:13:16</td>\n",
       "      <td>A bank like no other, no bank have such amazin...</td>\n",
       "      <td>5</td>\n",
       "      <td>Hi Dfdsa132! We're delighted that you love our...</td>\n",
       "      <td>2022-11-10T12:12:09Z</td>\n",
       "    </tr>\n",
       "    <tr>\n",
       "      <th>2</th>\n",
       "      <td>appStore</td>\n",
       "      <td>2023-09-09 08:33:43</td>\n",
       "      <td>Notice that the drop in interest rate of 0.8% ...</td>\n",
       "      <td>1</td>\n",
       "      <td>Hi there! We’re sorry to make you feel that wa...</td>\n",
       "      <td>2023-09-11T01:19:06Z</td>\n",
       "    </tr>\n",
       "    <tr>\n",
       "      <th>3</th>\n",
       "      <td>appStore</td>\n",
       "      <td>2023-06-27 04:01:39</td>\n",
       "      <td>Sending money into my GXS account is a breeze ...</td>\n",
       "      <td>2</td>\n",
       "      <td>Hi Kenny, thank you for alerting us to this is...</td>\n",
       "      <td>2023-06-28T09:08:48Z</td>\n",
       "    </tr>\n",
       "    <tr>\n",
       "      <th>4</th>\n",
       "      <td>appStore</td>\n",
       "      <td>2022-10-02 04:17:49</td>\n",
       "      <td>I have to say that the UI/UX is one of the bes...</td>\n",
       "      <td>5</td>\n",
       "      <td>Hi Mephosis, we are happy that you like our ap...</td>\n",
       "      <td>2022-10-04T05:49:50Z</td>\n",
       "    </tr>\n",
       "  </tbody>\n",
       "</table>\n",
       "</div>"
      ],
      "text/plain": [
       "   dataFrom                 date  \\\n",
       "0  appStore  2024-03-06 08:36:37   \n",
       "1  appStore  2022-11-09 03:13:16   \n",
       "2  appStore  2023-09-09 08:33:43   \n",
       "3  appStore  2023-06-27 04:01:39   \n",
       "4  appStore  2022-10-02 04:17:49   \n",
       "\n",
       "                                              review  rating  \\\n",
       "0  Great banking app with attractive interest rat...       4   \n",
       "1  A bank like no other, no bank have such amazin...       5   \n",
       "2  Notice that the drop in interest rate of 0.8% ...       1   \n",
       "3  Sending money into my GXS account is a breeze ...       2   \n",
       "4  I have to say that the UI/UX is one of the bes...       5   \n",
       "\n",
       "                                   extracted_devresp          devresp_time  \n",
       "0  Hi Eugene! We're thrilled to know that you lik...  2024-03-08T02:53:35Z  \n",
       "1  Hi Dfdsa132! We're delighted that you love our...  2022-11-10T12:12:09Z  \n",
       "2  Hi there! We’re sorry to make you feel that wa...  2023-09-11T01:19:06Z  \n",
       "3  Hi Kenny, thank you for alerting us to this is...  2023-06-28T09:08:48Z  \n",
       "4  Hi Mephosis, we are happy that you like our ap...  2022-10-04T05:49:50Z  "
      ]
     },
     "execution_count": 5,
     "metadata": {},
     "output_type": "execute_result"
    }
   ],
   "source": [
    "#Creating new column to track where data is from\n",
    "appStore['Unnamed: 0'] = 'appStore'\n",
    "appStore.columns = ['dataFrom' if col == 'Unnamed: 0' else col for col in appStore.columns]\n",
    "appStore.head()"
   ]
  },
  {
   "cell_type": "code",
   "execution_count": 6,
   "metadata": {},
   "outputs": [],
   "source": [
    "googlePlay = googlePlay.drop(columns=['id', 'userName', 'userImage','scoreText','url',\n",
    "       'title','version', 'thumbsUp',\n",
    "       'criterias'])"
   ]
  },
  {
   "cell_type": "code",
   "execution_count": 7,
   "metadata": {},
   "outputs": [
    {
     "data": {
      "text/html": [
       "<div>\n",
       "<style scoped>\n",
       "    .dataframe tbody tr th:only-of-type {\n",
       "        vertical-align: middle;\n",
       "    }\n",
       "\n",
       "    .dataframe tbody tr th {\n",
       "        vertical-align: top;\n",
       "    }\n",
       "\n",
       "    .dataframe thead th {\n",
       "        text-align: right;\n",
       "    }\n",
       "</style>\n",
       "<table border=\"1\" class=\"dataframe\">\n",
       "  <thead>\n",
       "    <tr style=\"text-align: right;\">\n",
       "      <th></th>\n",
       "      <th>date</th>\n",
       "      <th>rating</th>\n",
       "      <th>review</th>\n",
       "      <th>devresp_time</th>\n",
       "      <th>extracted_devresp</th>\n",
       "      <th>dataFrom</th>\n",
       "    </tr>\n",
       "  </thead>\n",
       "  <tbody>\n",
       "    <tr>\n",
       "      <th>0</th>\n",
       "      <td>2024-03-10T23:51:02.700Z</td>\n",
       "      <td>1</td>\n",
       "      <td>cant logging using finger print . previously s...</td>\n",
       "      <td>2024-03-11T00:52:46.253Z</td>\n",
       "      <td>Hi Xiangqing, we'd love to look into this for ...</td>\n",
       "      <td>googlePlay</td>\n",
       "    </tr>\n",
       "    <tr>\n",
       "      <th>1</th>\n",
       "      <td>2024-03-10T22:02:20.654Z</td>\n",
       "      <td>1</td>\n",
       "      <td>For 1st time registration signup by singpass a...</td>\n",
       "      <td>2024-03-10T23:33:26.777Z</td>\n",
       "      <td>Hi Matt, thanks for reaching out! If you are r...</td>\n",
       "      <td>googlePlay</td>\n",
       "    </tr>\n",
       "    <tr>\n",
       "      <th>2</th>\n",
       "      <td>2024-03-10T03:28:54.619Z</td>\n",
       "      <td>4</td>\n",
       "      <td>Updated - Kindly ignore my previous rating, an...</td>\n",
       "      <td>2024-03-10T01:27:39.606Z</td>\n",
       "      <td>Hi Jeremy, could you share more details on the...</td>\n",
       "      <td>googlePlay</td>\n",
       "    </tr>\n",
       "    <tr>\n",
       "      <th>3</th>\n",
       "      <td>2024-03-09T02:29:58.143Z</td>\n",
       "      <td>1</td>\n",
       "      <td>They unable to process my application. 4x attempt</td>\n",
       "      <td>2024-03-09T02:48:09.455Z</td>\n",
       "      <td>Hi Nurhartini, we'd love to check on this for ...</td>\n",
       "      <td>googlePlay</td>\n",
       "    </tr>\n",
       "    <tr>\n",
       "      <th>4</th>\n",
       "      <td>2024-03-08T12:39:35.515Z</td>\n",
       "      <td>1</td>\n",
       "      <td>Try logging in after logging out completely. C...</td>\n",
       "      <td>2024-03-08T13:21:01.100Z</td>\n",
       "      <td>Hi AK Ong. We're sorry to hear that you are ha...</td>\n",
       "      <td>googlePlay</td>\n",
       "    </tr>\n",
       "  </tbody>\n",
       "</table>\n",
       "</div>"
      ],
      "text/plain": [
       "                       date  rating  \\\n",
       "0  2024-03-10T23:51:02.700Z       1   \n",
       "1  2024-03-10T22:02:20.654Z       1   \n",
       "2  2024-03-10T03:28:54.619Z       4   \n",
       "3  2024-03-09T02:29:58.143Z       1   \n",
       "4  2024-03-08T12:39:35.515Z       1   \n",
       "\n",
       "                                              review  \\\n",
       "0  cant logging using finger print . previously s...   \n",
       "1  For 1st time registration signup by singpass a...   \n",
       "2  Updated - Kindly ignore my previous rating, an...   \n",
       "3  They unable to process my application. 4x attempt   \n",
       "4  Try logging in after logging out completely. C...   \n",
       "\n",
       "               devresp_time  \\\n",
       "0  2024-03-11T00:52:46.253Z   \n",
       "1  2024-03-10T23:33:26.777Z   \n",
       "2  2024-03-10T01:27:39.606Z   \n",
       "3  2024-03-09T02:48:09.455Z   \n",
       "4  2024-03-08T13:21:01.100Z   \n",
       "\n",
       "                                   extracted_devresp    dataFrom  \n",
       "0  Hi Xiangqing, we'd love to look into this for ...  googlePlay  \n",
       "1  Hi Matt, thanks for reaching out! If you are r...  googlePlay  \n",
       "2  Hi Jeremy, could you share more details on the...  googlePlay  \n",
       "3  Hi Nurhartini, we'd love to check on this for ...  googlePlay  \n",
       "4  Hi AK Ong. We're sorry to hear that you are ha...  googlePlay  "
      ]
     },
     "execution_count": 7,
     "metadata": {},
     "output_type": "execute_result"
    }
   ],
   "source": [
    "googlePlay['dataFrom'] = 'googlePlay'\n",
    "googlePlay = googlePlay.rename(columns={'score': 'rating', 'replyDate': 'devresp_time', 'replyText': 'extracted_devresp', 'text': 'review'})\n",
    "googlePlay.head()"
   ]
  },
  {
   "cell_type": "code",
   "execution_count": 8,
   "metadata": {},
   "outputs": [],
   "source": [
    "#Combining app store and playstore data\n",
    "combined_data= pd.concat([appStore, googlePlay], ignore_index=True)"
   ]
  },
  {
   "cell_type": "code",
   "execution_count": 9,
   "metadata": {},
   "outputs": [],
   "source": [
    "#Saving as CSV\n",
    "combined_data.to_csv('combined_data.csv', index=False)"
   ]
  }
 ],
 "metadata": {
  "kernelspec": {
   "display_name": "Python 3",
   "language": "python",
   "name": "python3"
  },
  "language_info": {
   "codemirror_mode": {
    "name": "ipython",
    "version": 3
   },
   "file_extension": ".py",
   "mimetype": "text/x-python",
   "name": "python",
   "nbconvert_exporter": "python",
   "pygments_lexer": "ipython3",
   "version": "3.12.1"
  }
 },
 "nbformat": 4,
 "nbformat_minor": 2
}
