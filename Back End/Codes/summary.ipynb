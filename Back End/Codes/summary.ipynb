{
 "cells": [
  {
   "cell_type": "markdown",
   "metadata": {},
   "source": [
    "This file contains the code for summary extractions from reviews"
   ]
  },
  {
   "cell_type": "code",
   "execution_count": 2,
   "metadata": {},
   "outputs": [],
   "source": [
    "import pandas as pd\n",
    "import os\n",
    "import re"
   ]
  },
  {
   "cell_type": "code",
   "execution_count": 3,
   "metadata": {},
   "outputs": [],
   "source": [
    "API_KEY = \"sk-ms7SU43E34tS9UJks5RD2KM3m1JumOR2pM73Dk95VzKjM6TZ\"\n",
    "\n",
    "API_KEY = API_KEY or os.getenv(\"H2O_GPT_E_API_KEY\")\n",
    "\n",
    "if not API_KEY:\n",
    "    raise ValueError(\"Please configure h2ogpte API key\")\n",
    "\n",
    "REMOTE_ADDRESS = \"https://h2ogpte.genai.h2o.ai\"\n",
    "\n",
    "from h2ogpte import H2OGPTE\n",
    "\n",
    "client = H2OGPTE(address=REMOTE_ADDRESS, api_key=API_KEY)"
   ]
  },
  {
   "cell_type": "markdown",
   "metadata": {},
   "source": [
    "Insert data"
   ]
  },
  {
   "cell_type": "code",
   "execution_count": 4,
   "metadata": {},
   "outputs": [],
   "source": [
    "tor = pd.read_csv('../data/LDA_Reviews.csv')"
   ]
  },
  {
   "cell_type": "markdown",
   "metadata": {},
   "source": [
    "Obtain the reviews of specific topic"
   ]
  },
  {
   "cell_type": "code",
   "execution_count": 5,
   "metadata": {},
   "outputs": [],
   "source": [
    "def get_review_issue(topic_name):\n",
    "    issue1 = tor.loc[tor['Topic'] == topic_name]\n",
    "    return issue1"
   ]
  },
  {
   "cell_type": "code",
   "execution_count": 6,
   "metadata": {},
   "outputs": [],
   "source": [
    "#first convert the extracted/filtered topic reviews extracted into strings\n",
    "def convert_str(topic_review):\n",
    "    compiled_review = topic_review['review'].to_string()\n",
    "\n",
    "    comp_rev = \"\"\n",
    "    for row in compiled_review:\n",
    "        comp_rev += row\n",
    "    return(comp_rev) #returns a long string"
   ]
  },
  {
   "cell_type": "code",
   "execution_count": 15,
   "metadata": {},
   "outputs": [
    {
     "name": "stderr",
     "output_type": "stream",
     "text": [
      "<>:13: SyntaxWarning: invalid escape sequence '\\W'\n",
      "<>:13: SyntaxWarning: invalid escape sequence '\\W'\n",
      "/var/folders/1l/pycwvg157rv_sn0s68n1_y8c0000gn/T/ipykernel_25297/2362987850.py:13: SyntaxWarning: invalid escape sequence '\\W'\n",
      "  s = re.sub('\\W+',' ', s)\n"
     ]
    }
   ],
   "source": [
    "def summary(topic):\n",
    "    issue = get_review_issue(topic)\n",
    "    review = convert_str(issue)\n",
    "    extract = client.extract_data(\n",
    "        text_context_list= [review],\n",
    "        #pre_prompt_extract=\"Pay attention and look at all people. Your job is to collect their names.\\n\",\n",
    "        prompt_extract=\"Recommend improvements based on the reviews. Ignore grammatical errors and awkward languages. Do not return the review numbers\"\n",
    "    )\n",
    "    # List of LLM answers per text input\n",
    "    sol = []\n",
    "    for extract_list_item in extract.content:\n",
    "        for s in extract_list_item.split(\"\\n\"):\n",
    "            s = re.sub('\\W+',' ', s)\n",
    "            sol.append(s)\n",
    "    return sol"
   ]
  },
  {
   "cell_type": "code",
   "execution_count": 16,
   "metadata": {},
   "outputs": [
    {
     "data": {
      "text/plain": [
       "[' Seamless fast and effective service',\n",
       " ' User friendly interface with easy navigation',\n",
       " ' Option to increase amount not just reduce',\n",
       " ' Possibility to apply for an account',\n",
       " ' Some users experienced issues with opening the app and integration on iPad',\n",
       " ' Clarification needed on the app s purpose and its requirements for Singpass details',\n",
       " ' Improvement needed for overlapping wording and pull down refresh function',\n",
       " ' Invite option for new users would be appreciated',\n",
       " ' Color scheme is liked by some users',\n",
       " ' Deposit limit increase is desired',\n",
       " ' Address issues with the app not working and unclear instructions',\n",
       " ' Make sure the app works consistently and without interruptions',\n",
       " ' Consider making the app available on Google Play Store',\n",
       " ' Ensure that multiple accounts are not created for fake reviews',\n",
       " ' Provide timely responses to customer inquiries and feedback ']"
      ]
     },
     "execution_count": 16,
     "metadata": {},
     "output_type": "execute_result"
    }
   ],
   "source": [
    "summary(\"Safety\")"
   ]
  },
  {
   "cell_type": "markdown",
   "metadata": {},
   "source": []
  }
 ],
 "metadata": {
  "kernelspec": {
   "display_name": "Python 3",
   "language": "python",
   "name": "python3"
  },
  "language_info": {
   "codemirror_mode": {
    "name": "ipython",
    "version": 3
   },
   "file_extension": ".py",
   "mimetype": "text/x-python",
   "name": "python",
   "nbconvert_exporter": "python",
   "pygments_lexer": "ipython3",
   "version": "3.12.0"
  }
 },
 "nbformat": 4,
 "nbformat_minor": 2
}
