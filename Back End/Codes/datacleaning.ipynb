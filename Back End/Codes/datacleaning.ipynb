{
 "cells": [
  {
   "cell_type": "markdown",
   "metadata": {},
   "source": [
    "This File ensures that all non-alphabetical characters such as emojis are filtered from the review dataset"
   ]
  },
  {
   "cell_type": "code",
   "execution_count": 5,
   "metadata": {},
   "outputs": [
    {
     "name": "stdout",
     "output_type": "stream",
     "text": [
      "Special characters removed. Cleaned data saved to: main.csv\n"
     ]
    }
   ],
   "source": [
    "import csv\n",
    "import re\n",
    "\n",
    "def remove_special_characters(text):\n",
    "    # Remove emojis\n",
    "    cleaned_text = text.encode('ascii', 'ignore').decode('ascii')\n",
    "    # Remove other special characters\n",
    "    cleaned_text = re.sub(r'[^\\w\\s]', '', cleaned_text)\n",
    "    return cleaned_text\n",
    "\n",
    "# Input and output file paths\n",
    "input_file = '../Data/combined_data.csv'\n",
    "output_file = '../Data/Reviews.csv'\n",
    "\n",
    "# Open input and output CSV files\n",
    "with open(input_file, mode='r', encoding='utf-8-sig') as infile, \\\n",
    "     open(output_file, mode='w', encoding='utf-8', newline='') as outfile:\n",
    "    reader = csv.reader(infile)\n",
    "    writer = csv.writer(outfile)\n",
    "    \n",
    "    # Write header row\n",
    "    writer.writerow(next(reader))\n",
    "\n",
    "    # Process and write each row\n",
    "    for row in reader:\n",
    "        cleaned_row = [remove_special_characters(cell) for cell in row]\n",
    "        writer.writerow(cleaned_row)\n",
    "\n",
    "print(\"Special characters removed. Cleaned data saved to:\", output_file)"
   ]
  }
 ],
 "metadata": {
  "kernelspec": {
   "display_name": "Python 3",
   "language": "python",
   "name": "python3"
  },
  "language_info": {
   "codemirror_mode": {
    "name": "ipython",
    "version": 3
   },
   "file_extension": ".py",
   "mimetype": "text/x-python",
   "name": "python",
   "nbconvert_exporter": "python",
   "pygments_lexer": "ipython3",
   "version": "3.12.0"
  }
 },
 "nbformat": 4,
 "nbformat_minor": 2
}
